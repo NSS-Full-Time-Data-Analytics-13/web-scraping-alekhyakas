{
 "cells": [
  {
   "cell_type": "markdown",
   "id": "2bd80720-47f9-4237-a99c-3f98e7000235",
   "metadata": {},
   "source": [
    "1. Navigate to https://www.billboard.com/charts/hot-100/. Using BeautifulSoup, extract out the This Week, artist, song, Last Week, Peak Position, and Weeks on Chart values into a pandas DataFrame. Hint: The HTML for the number one ranked song is slightly different from that of the rest of the songs."
   ]
  },
  {
   "cell_type": "code",
   "execution_count": 4,
   "id": "567d124d-3e0d-47f6-8eec-77ddb2f7d879",
   "metadata": {},
   "outputs": [],
   "source": [
    "import requests"
   ]
  },
  {
   "cell_type": "code",
   "execution_count": 6,
   "id": "f216e272-85d0-4646-a872-9ec2d2a3491d",
   "metadata": {},
   "outputs": [],
   "source": [
    "import pandas as pd"
   ]
  },
  {
   "cell_type": "code",
   "execution_count": 8,
   "id": "95f167b5-97c8-460f-9352-3b3e330b34ba",
   "metadata": {},
   "outputs": [],
   "source": [
    "URL = 'https://www.billboard.com/charts/hot-100/'\n",
    "\n",
    "response = requests.get(URL)"
   ]
  },
  {
   "cell_type": "code",
   "execution_count": 10,
   "id": "b62e0574-cb2d-44f6-be1d-7df17dd7dc46",
   "metadata": {},
   "outputs": [
    {
     "data": {
      "text/plain": [
       "200"
      ]
     },
     "execution_count": 10,
     "metadata": {},
     "output_type": "execute_result"
    }
   ],
   "source": [
    "response.status_code\n"
   ]
  },
  {
   "cell_type": "code",
   "execution_count": 12,
   "id": "0bd44b30-84ec-4078-8a59-dffe7a942ece",
   "metadata": {},
   "outputs": [],
   "source": [
    "from bs4 import BeautifulSoup as BS"
   ]
  },
  {
   "cell_type": "code",
   "execution_count": 14,
   "id": "ed6f911a-cb1c-48e6-83df-51df08f62b55",
   "metadata": {},
   "outputs": [],
   "source": [
    "soup = BS(response.text)"
   ]
  },
  {
   "cell_type": "code",
   "execution_count": 42,
   "id": "629adc69-ff61-4ba1-8305-f7f9d1171c05",
   "metadata": {},
   "outputs": [
    {
     "data": {
      "text/plain": [
       "bs4.element.ResultSet"
      ]
     },
     "execution_count": 42,
     "metadata": {},
     "output_type": "execute_result"
    }
   ],
   "source": [
    "this_week = soup.find_all('span', class_='c-label a-font-primary-bold-l u-font-size-32@tablet u-letter-spacing-0080@tablet')\n",
    "type(this_week)"
   ]
  },
  {
   "cell_type": "code",
   "execution_count": 258,
   "id": "0eb0d43a-8a28-423b-86e0-970f3259e7ce",
   "metadata": {},
   "outputs": [
    {
     "data": {
      "text/plain": [
       "100"
      ]
     },
     "execution_count": 258,
     "metadata": {},
     "output_type": "execute_result"
    }
   ],
   "source": [
    "this_week_list=[]\n",
    "for span in this_week:\n",
    "    text = span.text.strip()  \n",
    "    this_week_list.append(text)\n",
    "len(this_week_list)"
   ]
  },
  {
   "cell_type": "code",
   "execution_count": 57,
   "id": "ac41d379-b651-44c9-be3a-b92155e18d2c",
   "metadata": {},
   "outputs": [],
   "source": [
    "songs=soup.find_all('h3',class_=\"c-title a-no-trucate a-font-primary-bold-s u-letter-spacing-0021 lrv-u-font-size-18@tablet lrv-u-font-size-16 u-line-height-125 u-line-height-normal@mobile-max a-truncate-ellipsis u-max-width-330 u-max-width-230@tablet-only\")"
   ]
  },
  {
   "cell_type": "code",
   "execution_count": 266,
   "id": "7f5122ef-ed25-494c-8d92-767a2cebb930",
   "metadata": {},
   "outputs": [
    {
     "data": {
      "text/plain": [
       "99"
      ]
     },
     "execution_count": 266,
     "metadata": {},
     "output_type": "execute_result"
    }
   ],
   "source": [
    "song_list=[]\n",
    "for song in songs:\n",
    "    text = song.text.strip()  \n",
    "    song_list.append(text) \n",
    "len(song_list)"
   ]
  },
  {
   "cell_type": "code",
   "execution_count": 67,
   "id": "72efad30-cf58-4021-aacf-df054af1de19",
   "metadata": {},
   "outputs": [],
   "source": [
    "singers=soup.find_all('span',class_=\"c-label a-no-trucate a-font-primary-s lrv-u-font-size-14@mobile-max u-line-height-normal@mobile-max u-letter-spacing-0021 lrv-u-display-block a-truncate-ellipsis-2line u-max-width-330 u-max-width-230@tablet-only\")"
   ]
  },
  {
   "cell_type": "code",
   "execution_count": 262,
   "id": "b00d6660-b00b-4869-9633-bbb2daf440e7",
   "metadata": {},
   "outputs": [
    {
     "data": {
      "text/plain": [
       "99"
      ]
     },
     "execution_count": 262,
     "metadata": {},
     "output_type": "execute_result"
    }
   ],
   "source": [
    "singer_list=[]\n",
    "for singer in singers:\n",
    "    text = singer.text.strip()  \n",
    "    singer_list.append(text) \n",
    "len(singer_list)"
   ]
  },
  {
   "cell_type": "code",
   "execution_count": 171,
   "id": "88f9588c-eaac-4ecb-abaa-32cc4228fa47",
   "metadata": {},
   "outputs": [],
   "source": [
    "li_elements = soup.find_all('li',class_=\"o-chart-results-list__item // a-chart-color u-width-72 u-width-55@mobile-max u-width-55@tablet-only lrv-u-flex lrv-u-flex-shrink-0 lrv-u-align-items-center lrv-u-justify-content-center lrv-u-border-b-1 u-border-b-0@mobile-max lrv-u-border-color-grey-light u-background-color-white-064@mobile-max lrv-u-flex-grow-1\")\n"
   ]
  },
  {
   "cell_type": "code",
   "execution_count": 206,
   "id": "a544719a-5a38-4f95-ba20-9538a1cb3fc3",
   "metadata": {},
   "outputs": [],
   "source": [
    "li_list=[]\n",
    "for li in li_elements:\n",
    "    text = li.text.strip()  \n",
    "    li_list.append(text) "
   ]
  },
  {
   "cell_type": "code",
   "execution_count": 268,
   "id": "e2df279f-5073-4d9c-97f0-78bb616bf490",
   "metadata": {},
   "outputs": [
    {
     "data": {
      "text/plain": [
       "100"
      ]
     },
     "execution_count": 268,
     "metadata": {},
     "output_type": "execute_result"
    }
   ],
   "source": [
    "last_week_list=[]\n",
    "for i in range(len(li_list)):\n",
    "    if i % 2 == 0:  \n",
    "        last_week_list.append(li_list[i])\n",
    "len(last_week_list)"
   ]
  },
  {
   "cell_type": "code",
   "execution_count": 270,
   "id": "971e1898-fbcf-4312-9308-093aa535e53b",
   "metadata": {},
   "outputs": [
    {
     "data": {
      "text/plain": [
       "100"
      ]
     },
     "execution_count": 270,
     "metadata": {},
     "output_type": "execute_result"
    }
   ],
   "source": [
    "weeks_onchart_list=[]\n",
    "for i in range(len(li_list)):\n",
    "    if i % 2 != 0:  \n",
    "        weeks_onchart_list.append(li_list[i])\n",
    "len(weeks_onchart_list)"
   ]
  },
  {
   "cell_type": "code",
   "execution_count": 232,
   "id": "5e221371-f4c4-4f70-a0ea-94d16b6ce9fe",
   "metadata": {},
   "outputs": [],
   "source": [
    "peaks= soup.find_all('li',class_=\"o-chart-results-list__item // a-chart-bg-color a-chart-color u-width-72 u-width-55@mobile-max u-width-55@tablet-only lrv-u-flex lrv-u-flex-shrink-0 lrv-u-align-items-center lrv-u-justify-content-center lrv-u-background-color-grey-lightest lrv-u-border-b-1 u-border-b-0@mobile-max lrv-u-border-color-grey-light lrv-u-flex-grow-1\")"
   ]
  },
  {
   "cell_type": "code",
   "execution_count": 274,
   "id": "ba3568ec-6ef2-4d2f-8dcf-a5ee310904d2",
   "metadata": {},
   "outputs": [],
   "source": [
    "peak_position_list=[]\n",
    "for peak in peaks:\n",
    "   text = peak.get_text(strip=True)\n",
    "   peak_position_list.append(text) \n"
   ]
  },
  {
   "cell_type": "code",
   "execution_count": 276,
   "id": "096eec67-2938-4938-a740-b82ad82b9a76",
   "metadata": {},
   "outputs": [
    {
     "data": {
      "text/plain": [
       "100"
      ]
     },
     "execution_count": 276,
     "metadata": {},
     "output_type": "execute_result"
    }
   ],
   "source": [
    "peak_position_list_final=[]\n",
    "for i in range(len(peak_position_list)):\n",
    "    if i % 2 != 0:  \n",
    "       peak_position_list_final.append(peak_position_list[i])\n",
    "len(peak_position_list_final)"
   ]
  },
  {
   "cell_type": "code",
   "execution_count": null,
   "id": "dfd1d270-2990-4f31-81d7-6ee95b0c745b",
   "metadata": {},
   "outputs": [],
   "source": []
  }
 ],
 "metadata": {
  "kernelspec": {
   "display_name": "Python 3 (ipykernel)",
   "language": "python",
   "name": "python3"
  },
  "language_info": {
   "codemirror_mode": {
    "name": "ipython",
    "version": 3
   },
   "file_extension": ".py",
   "mimetype": "text/x-python",
   "name": "python",
   "nbconvert_exporter": "python",
   "pygments_lexer": "ipython3",
   "version": "3.11.7"
  }
 },
 "nbformat": 4,
 "nbformat_minor": 5
}
